{
  "nbformat": 4,
  "nbformat_minor": 0,
  "metadata": {
    "colab": {
      "name": "TorresHanoi.ipynb",
      "provenance": [],
      "authorship_tag": "ABX9TyPpTnH4AuLg1U3mjDc3LGcX",
      "include_colab_link": true
    },
    "kernelspec": {
      "name": "python3",
      "display_name": "Python 3"
    }
  },
  "cells": [
    {
      "cell_type": "markdown",
      "metadata": {
        "id": "view-in-github",
        "colab_type": "text"
      },
      "source": [
        "<a href=\"https://colab.research.google.com/github/jcmm518/Actividades_Clase/blob/main/TorresHanoi.ipynb\" target=\"_parent\"><img src=\"https://colab.research.google.com/assets/colab-badge.svg\" alt=\"Open In Colab\"/></a>"
      ]
    },
    {
      "cell_type": "code",
      "metadata": {
        "colab": {
          "base_uri": "https://localhost:8080/"
        },
        "id": "tHcGwmyej_13",
        "outputId": "d98c08d6-2a32-4b41-eed9-68d3801345b8"
      },
      "source": [
        "def moverTorre(altura,origen, destino, intermedio):\r\n",
        "    if altura >= 1:\r\n",
        "        moverTorre(altura-1,origen,intermedio,destino)\r\n",
        "        moverDisco(origen,destino)\r\n",
        "        moverTorre(altura-1,intermedio,destino,origen)\r\n",
        "\r\n",
        "def moverDisco(desde,hacia):\r\n",
        "    print(\"mover disco de\",desde,\"a\",hacia)\r\n",
        "\r\n",
        "moverTorre(3,\"A\",\"B\",\"C\")"
      ],
      "execution_count": 1,
      "outputs": [
        {
          "output_type": "stream",
          "text": [
            "mover disco de A a B\n",
            "mover disco de A a C\n",
            "mover disco de B a C\n",
            "mover disco de A a B\n",
            "mover disco de C a A\n",
            "mover disco de C a B\n",
            "mover disco de A a B\n"
          ],
          "name": "stdout"
        }
      ]
    }
  ]
}