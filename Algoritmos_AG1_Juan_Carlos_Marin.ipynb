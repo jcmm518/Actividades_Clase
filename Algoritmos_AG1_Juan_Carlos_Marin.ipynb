{
  "nbformat": 4,
  "nbformat_minor": 0,
  "metadata": {
    "colab": {
      "name": "Algoritmos - AG1 - Juan Carlos Marin.ipynb",
      "provenance": [],
      "collapsed_sections": [],
      "authorship_tag": "ABX9TyPcjKrs4j2hnitD8JCaIIdD",
      "include_colab_link": true
    },
    "kernelspec": {
      "name": "python3",
      "display_name": "Python 3"
    }
  },
  "cells": [
    {
      "cell_type": "markdown",
      "metadata": {
        "id": "view-in-github",
        "colab_type": "text"
      },
      "source": [
        "<a href=\"https://colab.research.google.com/github/jcmm518/Actividades_Clase/blob/main/Algoritmos_AG1_Juan_Carlos_Marin.ipynb\" target=\"_parent\"><img src=\"https://colab.research.google.com/assets/colab-badge.svg\" alt=\"Open In Colab\"/></a>"
      ]
    },
    {
      "cell_type": "markdown",
      "metadata": {
        "id": "7vslM3cL84O9"
      },
      "source": [
        "# Algoritmos - Actividad Guiada 1\r\n",
        "\r\n",
        "Nombre : Juan Carlos Marin Mejia <br>\r\n",
        "URL: [https://colab.research.google.com/drive/1h4ZR92lBIYmIoTCQJblhCPvuuj-iI2n0?usp=sharing](https://colab.research.google.com/drive/1h4ZR92lBIYmIoTCQJblhCPvuuj-iI2n0?usp=sharing)\r\n",
        "\r\n",
        "GitHub: [https://github.com/jcmm518/03MAIR-Algoritmos-de-optimizacion.git](https://github.com/jcmm518/03MAIR-Algoritmos-de-optimizacion.git)"
      ]
    },
    {
      "cell_type": "markdown",
      "metadata": {
        "id": "_hrJiraBDqH1"
      },
      "source": [
        "## Torres de Hanoi con divide y venceras"
      ]
    },
    {
      "cell_type": "code",
      "metadata": {
        "id": "WgJNM6wn73cc"
      },
      "source": [
        "def Torres_Hanoi(N,desde,hasta):\r\n",
        "  if N==1 :\r\n",
        "    print(\"Lleva la ficha desde :\" , desde,\" Hasta: \", hasta)\r\n",
        "  else :\r\n",
        "    Torres_Hanoi(N-1,desde,6-desde-hasta)\r\n",
        "    print(\"Lleva la ficha desde :\" , desde,\" Hasta: \", hasta)\r\n",
        "    Torres_Hanoi(N-1,6-desde-hasta,hasta)\r\n",
        "\r\n",
        "Torres_Hanoi(3,1,3)\r\n"
      ],
      "execution_count": null,
      "outputs": []
    },
    {
      "cell_type": "markdown",
      "metadata": {
        "id": "D-ePcQUdzVIC"
      },
      "source": [
        "## Devolucion de cambio por tecnica voraz"
      ]
    },
    {
      "cell_type": "code",
      "metadata": {
        "id": "43zmtVQqzehe"
      },
      "source": [
        "def cambio_monedas(N,SM):\r\n",
        "  SOLUCION = [0] * len(SM)\r\n",
        "  ValorAcumulado = 0\r\n",
        "\r\n",
        "  for i,valor in enumerate(SM):\r\n",
        "    monedas = (N - ValorAcumulado)//valor\r\n",
        "    SOLUCION[i] = monedas\r\n",
        "    ValorAcumulado = ValorAcumulado + (monedas * valor)\r\n",
        "\r\n",
        "    if ValorAcumulado == N :\r\n",
        "      return SOLUCION\r\n",
        "\r\n",
        "cambio_monedas(137,[25,10,5,1])\r\n",
        "\r\n",
        "# mejorar para cuando el sistema de monedas no tiene el 1, por que no devuelve nada\r\n",
        "# mirar si existe otra tecnica para los casos que no se pueda resolver\r\n",
        "\r\n"
      ],
      "execution_count": null,
      "outputs": []
    },
    {
      "cell_type": "markdown",
      "metadata": {
        "id": "F3xJBI6YG78Z"
      },
      "source": [
        "## N- Reinas or tecnica de vuelta atras"
      ]
    },
    {
      "cell_type": "code",
      "metadata": {
        "id": "b13SBZ4jHAc8"
      },
      "source": [
        "def escribe(S):\r\n",
        "  n = len(S)\r\n",
        "  for x in range(n):\r\n",
        "    print(\"\")\r\n",
        "    for i in range(n):\r\n",
        "      if S[i] == x+1:\r\n",
        "        print(\" X \" , end=\"\")\r\n",
        "      else:\r\n",
        "        print(\" - \", end=\"\")\r\n",
        "\r\n",
        "\r\n",
        "def es_prometedora(SOLUCION,etapa):\r\n",
        "  #print(SOLUCION)\r\n",
        "  #Si la solución tiene dos valores iguales no es valida => Dos reinas en la misma fila\r\n",
        "\r\n",
        "  for i in range(etapa+1):\r\n",
        "    #print(\"El valor \" + str(SOLUCION[i]) + \" está \" +  str(SOLUCION.count(SOLUCION[i])) + \" veces\")\r\n",
        "    if SOLUCION.count(SOLUCION[i]) > 1:       \r\n",
        "      return False\r\n",
        "    #Verifica las diagonales\r\n",
        "    for j in range(i+1, etapa +1 ):\r\n",
        "      #print(\"Comprobando diagonal de \" + str(i) + \" y \" + str(j))\r\n",
        "      if abs(i-j) == abs(SOLUCION[i]-SOLUCION[j]) : return False\r\n",
        "  return True\r\n",
        "\r\n",
        "\r\n",
        "def reinas(N, solucion=[], etapa=0):\r\n",
        "#N: dimension del tablero\r\n",
        "  if len(solucion) == 0 :\r\n",
        "    solucion=[0 for i in range(N) ]\r\n",
        "  for i in range(1,N+1):\r\n",
        "    solucion[etapa] = i\r\n",
        "\r\n",
        "    if es_prometedora(solucion,etapa) :\r\n",
        "      if etapa == N - 1 :\r\n",
        "        print(solucion)\r\n",
        "        escribe(solucion)\r\n",
        "        print()\r\n",
        "      else :\r\n",
        "        reinas(N, solucion, etapa +1)\r\n",
        "    else :\r\n",
        "      None  \r\n",
        "    \r\n",
        "    solucion[etapa] = 0\r\n",
        "\r\n",
        "\r\n",
        "reinas(6)"
      ],
      "execution_count": null,
      "outputs": []
    },
    {
      "cell_type": "markdown",
      "metadata": {
        "id": "nXxH7pTolB17"
      },
      "source": [
        "## Encontrar los dos puntos mas cercanos\r\n",
        "\r\n",
        "### Fuerza bruta \r\n",
        "  * La forma más sencilla de resolver este problema es utilizando la fuerza bruta. Sin embargo, al aplicar este método lo que estamos haciendo es comparar las distancias entre n(n-1)/2 pares de puntos, por lo que la complejidad que obtenemos es de O(n^2)."
      ]
    },
    {
      "cell_type": "code",
      "metadata": {
        "colab": {
          "base_uri": "https://localhost:8080/"
        },
        "id": "z1xwly-OAhXr",
        "outputId": "dfa15d92-b120-4d27-bacb-a3a220c39aa9"
      },
      "source": [
        "def dist(p0, p1): \r\n",
        "    return math.sqrt(((p0[0] - p1[0])**2)) + ((p0[1] - p1[1])**2)\r\n",
        "\r\n",
        "def bruteForce(P): \r\n",
        "    n=len(P)\r\n",
        "    min_val = float('inf')  \r\n",
        "    for i in range(n): \r\n",
        "        for j in range(i + 1, n): \r\n",
        "            if dist(P[i], P[j]) < min_val: \r\n",
        "                min_val = dist(P[i], P[j]) \r\n",
        "                puntos_cercanos = (P[i], P[j])\r\n",
        "    return puntos_cercanos \r\n",
        "\r\n",
        "P = [(2, 3), (12, 30), (40, 50), (10, 49),  (12, 10), (3, 4),(12, 2),(14, 8),(13, 6)] \r\n",
        " \r\n",
        "\r\n",
        "print(bruteForce(P))"
      ],
      "execution_count": 67,
      "outputs": [
        {
          "output_type": "stream",
          "text": [
            "((2, 3), (3, 4))\n"
          ],
          "name": "stdout"
        }
      ]
    },
    {
      "cell_type": "markdown",
      "metadata": {
        "id": "uhwgc2_wDQnh"
      },
      "source": [
        "* El problema se puede mejorar y obtener una complejidad de O(nlogn) usando el método recursivo de Divide y Vencerás de la siguiente forma"
      ]
    },
    {
      "cell_type": "code",
      "metadata": {
        "id": "ZdSRP_-iDafm",
        "outputId": "aa24fccd-7aaf-48fd-f1b8-754c7479d467",
        "colab": {
          "base_uri": "https://localhost:8080/"
        }
      },
      "source": [
        "import math \r\n",
        "import copy \r\n",
        "\r\n",
        "\r\n",
        "# A utility function to find the \r\n",
        "# distance between two points \r\n",
        "def dist(p1, p2): \r\n",
        "\treturn math.sqrt((p1.x - p2.x) *\r\n",
        "\t\t\t\t\t(p1.x - p2.x) +\r\n",
        "\t\t\t\t\t(p1.y - p2.y) *\r\n",
        "\t\t\t\t\t(p1.y - p2.y)) \r\n",
        "\r\n",
        "# A Brute Force method to return the \r\n",
        "# smallest distance between two points \r\n",
        "# in P[] of size n \r\n",
        "def bruteForce(P, n): \r\n",
        "\tmin_val = float('inf') \r\n",
        "\tfor i in range(n): \r\n",
        "\t\tfor j in range(i + 1, n): \r\n",
        "\t\t\tif dist(P[i], P[j]) < min_val: \r\n",
        "\t\t\t\tmin_val = dist(P[i], P[j]) \r\n",
        "\treturn min_val \r\n",
        "\r\n",
        "def stripClosest(strip, size, d): \r\n",
        "\t\r\n",
        "\t# Initialize the minimum distance as d \r\n",
        "\tmin_val = d \r\n",
        "\r\n",
        "\tfor i in range(size): \r\n",
        "\t\tj = i + 1\r\n",
        "\t\twhile j < size and (strip[j].y -\r\n",
        "\t\t\t\t\t\t\tstrip[i].y) < min_val: \r\n",
        "\t\t\tmin_val = dist(strip[i], strip[j]) \r\n",
        "\t\t\tj += 1\r\n",
        "\r\n",
        "\treturn min_val \r\n",
        "\r\n",
        "\r\n",
        "def closestUtil(P, Q, n): \r\n",
        "\t\r\n",
        "\t# If there are 2 or 3 points, \r\n",
        "\t# then use brute force \r\n",
        "\tif n <= 3: \r\n",
        "\t\treturn bruteForce(P, n) \r\n",
        "\r\n",
        "\t# Find the middle point \r\n",
        "\tmid = n // 2\r\n",
        "\tmidPoint = P[mid] \r\n",
        "\r\n",
        "\tdl = closestUtil(P[:mid], Q, mid) \r\n",
        "\tdr = closestUtil(P[mid:], Q, n - mid) \r\n",
        "\r\n",
        "\t# Find the smaller of two distances \r\n",
        "\td = min(dl, dr) \r\n",
        "\r\n",
        "\tstrip = [] \r\n",
        "\tfor i in range(n): \r\n",
        "\t\tif abs(Q[i].x - midPoint.x) < d: \r\n",
        "\t\t\tstrip.append(Q[i]) \r\n",
        "\treturn min(d, stripClosest(strip, len(strip), d)) \r\n",
        "\r\n",
        "def closest(P, n): \r\n",
        "\tP.sort(key = lambda point: point.x) \r\n",
        "\tQ = copy.deepcopy(P) \r\n",
        "\tQ.sort(key = lambda point: point.y)\t \r\n",
        "\r\n",
        "\treturn closestUtil(P, Q, n) \r\n",
        "\r\n",
        "# Driver code \r\n",
        "P = [Point(2, 3), Point(12, 30), \r\n",
        "\tPoint(40, 50), Point(5, 1), \r\n",
        "\tPoint(12, 10), Point(3, 4)] \r\n",
        "n = len(P) \r\n",
        "print(\"The smallest distance is\", \tclosest(P, n)) \r\n",
        "\r\n",
        "\r\n"
      ],
      "execution_count": 78,
      "outputs": [
        {
          "output_type": "stream",
          "text": [
            "The smallest distance is 1.4142135623730951\n"
          ],
          "name": "stdout"
        }
      ]
    }
  ]
}